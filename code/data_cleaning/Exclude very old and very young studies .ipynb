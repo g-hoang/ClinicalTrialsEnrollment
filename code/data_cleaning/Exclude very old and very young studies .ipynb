{
 "cells": [
  {
   "cell_type": "markdown",
   "metadata": {},
   "source": [
    "### For CSV"
   ]
  },
  {
   "cell_type": "code",
   "execution_count": null,
   "metadata": {},
   "outputs": [],
   "source": [
    "import pandas as pd\n",
    "import seaborn as sns\n",
    "import matplotlib.pyplot as plt\n",
    "from pandas.plotting import scatter_matrix\n",
    "import types\n",
    "import warnings\n",
    "import matplotlib.cbook\n",
    "from mpl_toolkits.mplot3d import Axes3D\n",
    "from sklearn.preprocessing import StandardScaler\n",
    "import numpy as np # linear algebra\n",
    "import csv\n",
    "import nltk\n",
    "import re\n",
    "#from num2words import num2words\n",
    "import string\n",
    "import os, sys, glob\n",
    "from datetime import datetime\n",
    "trials = pd.read_csv(\"Trials.csv\")\n",
    "\n",
    "# ## select years\n",
    "# from datetime import datetime\n",
    "startYear = 2000\n",
    "endYear = 2018\n",
    "startYear=datetime(startYear, 1, 1)\n",
    "endYear=datetime(endYear, 1, 1)\n",
    "trials_selection = []\n",
    "for i in range(len(trials)):\n",
    "\n",
    "    start = datetime.strptime(trials['StartDate'][i], '%B %Y')\n",
    "    end = datetime.strptime(trials['StartDate'][i], '%B %Y')\n",
    "\n",
    "    if start >= startYear and end <= endYear:\n",
    "        trials_selection.append(i)\n",
    "print(len(trials_selection))\n",
    "trials = trials.iloc[trials_selection]\n",
    "trials = trials.reset_index(drop=True)"
   ]
  },
  {
   "cell_type": "markdown",
   "metadata": {},
   "source": [
    "### For MongoDB"
   ]
  },
  {
   "cell_type": "code",
   "execution_count": null,
   "metadata": {},
   "outputs": [],
   "source": [
    "## revised from Stephan's code\n",
    "startYear = 2000\n",
    "endYear = 2018\n",
    "try:\n",
    "    startYear=datetime(startYear, 1, 1)\n",
    "    endYear=datetime(endYear, 1, 1)\n",
    "except Exception as err:\n",
    "    print(err)\n",
    "    exit(1)\n",
    "\n",
    "criteria = {\n",
    "    '$and': [\n",
    "        { 'StartDate': { '$ne': ''} },\n",
    "        { 'CompletionDate': { '$ne': ''} },\n",
    "        { 'EnrollmentCount': { '$ne': 0} }\n",
    "    ]\n",
    "}\n",
    "\n",
    "results = list(trialsCollection.find(criteria, projection={\"_id\": 0, 'NCTId':1, 'Phase': 1, 'StartDate': 1, 'CompletionDate': 1, 'EnrollmentCount':1, 'LocationCountry':1, 'EnrollmentDuration': 1}))\n",
    "print(len(results))\n",
    "\n",
    "trials_selection = []\n",
    "for trial in results:\n",
    "    start = datetime.strptime(trial['StartDate'], '%B %Y')\n",
    "    end = datetime.strptime(trial['CompletionDate'], '%B %Y')\n",
    "\n",
    "    if start >= startYear and end <= endYear:\n",
    "        trials_selection.append(trial)\n",
    "print(len(trials_selection))"
   ]
  }
 ],
 "metadata": {
  "kernelspec": {
   "display_name": "Python 3",
   "language": "python",
   "name": "python3"
  },
  "language_info": {
   "codemirror_mode": {
    "name": "ipython",
    "version": 3
   },
   "file_extension": ".py",
   "mimetype": "text/x-python",
   "name": "python",
   "nbconvert_exporter": "python",
   "pygments_lexer": "ipython3",
   "version": "3.7.6"
  }
 },
 "nbformat": 4,
 "nbformat_minor": 4
}
